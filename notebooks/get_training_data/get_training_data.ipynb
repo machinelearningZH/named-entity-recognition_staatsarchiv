{
 "cells": [
  {
   "cell_type": "markdown",
   "id": "2caf80aa-7041-4017-aa9d-7fb03fd8763b",
   "metadata": {},
   "source": [
    "# Build HuggingFace dataset from TEI Publisher XMLs\n",
    "\n",
    "This Jupyter notebook downloads and exports all XML documents in the `annotation` collection of the currently running TEI Publisher instance and additionally generates a shuffled Huggingface Dataset, which is stored as a Parquet file. HF datasets can be loaded using the training notebook `../training/training.py`."
   ]
  },
  {
   "cell_type": "code",
   "execution_count": null,
   "id": "e16118e6-b4c5-4c43-ae12-c2d9824e8081",
   "metadata": {},
   "outputs": [],
   "source": [
    "!python -m spacy download de_dep_news_trf"
   ]
  },
  {
   "cell_type": "code",
   "execution_count": null,
   "id": "3a27f306",
   "metadata": {},
   "outputs": [],
   "source": [
    "from IPython.display import display, HTML\n",
    "display(HTML(\"<style>.container { width:100% !important; }</style>\"))\n",
    "\n",
    "import warnings\n",
    "warnings.simplefilter(action=\"ignore\", category=FutureWarning)"
   ]
  },
  {
   "cell_type": "code",
   "execution_count": null,
   "id": "015a488c",
   "metadata": {},
   "outputs": [],
   "source": [
    "import os\n",
    "from itertools import chain\n",
    "from typing import Collection, Dict, List, Sequence, Union\n",
    "\n",
    "import numpy as np\n",
    "import requests\n",
    "import spacy\n",
    "from datasets import ClassLabel, Dataset\n",
    "from datasets import Sequence as Sequence_DS\n",
    "from sklearn.utils import shuffle\n",
    "from spacy.training import biluo_to_iob, offsets_to_biluo_tags\n",
    "from span_to_dataset import spacy_to_hf\n",
    "from tqdm.notebook import tqdm\n",
    "\n",
    "spacy.require_gpu()"
   ]
  },
  {
   "cell_type": "markdown",
   "id": "b3abd334",
   "metadata": {},
   "source": [
    "We define the mapping from IOB labels to indices, as well as a list of NEs to exclude from the annotations."
   ]
  },
  {
   "cell_type": "code",
   "execution_count": null,
   "id": "e959e394",
   "metadata": {},
   "outputs": [],
   "source": [
    "# From https://huggingface.co/stefan-it/span-marker-gelectra-large-germeval14/blob/main/config.json\n",
    "idx_to_label = {\n",
    "      \"0\": \"O\",\n",
    "      \"1\": \"B-LOC\",\n",
    "      \"2\": \"I-LOC\",\n",
    "      \"3\": \"B-LOCderiv\",\n",
    "      \"4\": \"I-LOCderiv\",\n",
    "      \"5\": \"B-LOCpart\",\n",
    "      \"6\": \"I-LOCpart\",\n",
    "      \"7\": \"B-ORG\",\n",
    "      \"8\": \"I-ORG\",\n",
    "      \"9\": \"B-ORGderiv\",\n",
    "      \"10\": \"I-ORGderiv\",\n",
    "      \"11\": \"B-ORGpart\",\n",
    "      \"12\": \"I-ORGpart\",\n",
    "      \"13\": \"B-OTH\",\n",
    "      \"14\": \"I-OTH\",\n",
    "      \"15\": \"B-OTHderiv\",\n",
    "      \"16\": \"I-OTHderiv\",\n",
    "      \"17\": \"B-OTHpart\",\n",
    "      \"18\": \"I-OTHpart\",\n",
    "      \"19\": \"B-PER\",\n",
    "      \"20\": \"I-PER\",\n",
    "      \"21\": \"B-PERderiv\",\n",
    "      \"22\": \"I-PERderiv\",\n",
    "      \"23\": \"B-PERpart\",\n",
    "      \"24\": \"I-PERpart\"\n",
    "    }\n",
    "\n",
    "label_to_idx = {v:int(k) for k, v in idx_to_label.items()}\n",
    "\n",
    "# NEs, which are not consistently annotated in the dataset and thus need to be excluded\n",
    "exclusion_list = [\n",
    "    \"Bezirksanwaltschaften\",\n",
    "    \"Kantonsregierungen\",\n",
    "    \"Verwaltungsräten\",\n",
    "    \"Verwaltungsräte\",\n",
    "    \"stadträtlichen\",\n",
    "    \"Zweckverbandes\",\n",
    "    \"Verwaltungsrat\",\n",
    "    \"Gemeinderates\",\n",
    "    \"Kommission\",\n",
    "    \"Verwaltung\",\n",
    "    \"Kantonen\",\n",
    "    \"Rat\"\n",
    "]"
   ]
  },
  {
   "cell_type": "markdown",
   "id": "7f24bc34",
   "metadata": {},
   "source": [
    "We obtain both paragraphs and span annotations, as well as XMLs from the TEI Publisher API."
   ]
  },
  {
   "cell_type": "code",
   "execution_count": null,
   "id": "edc730fb",
   "metadata": {
    "scrolled": true
   },
   "outputs": [],
   "source": [
    "r = requests.get(\"http://localhost:8080/exist/apps/tei-publisher/api/nlp/data/annotate\")\n",
    "dataset = [t for t in r.json() if t[\"text\"].strip()]\n",
    "files = list({p[\"source\"].replace(\"annotate/\", \"\") for p in dataset})\n",
    "os.makedirs('export_xml', exist_ok=True)\n",
    "\n",
    "for f in tqdm(files):\n",
    "    headers = {\"Content-type\": \"application/xml\"}\n",
    "    r = requests.get(\n",
    "        \"http://localhost:8080/exist/apps/tei-publisher/api/document/annotate/{}\".format(\n",
    "            f\n",
    "        ),\n",
    "        headers=headers,\n",
    "    )\n",
    "    xml = r.content.decode(\"utf-8\")\n",
    "\n",
    "    with open('export_xml' + \"/\" + f, \"w\") as f:\n",
    "        f.write(xml)"
   ]
  },
  {
   "cell_type": "markdown",
   "id": "376bde68",
   "metadata": {},
   "source": [
    "We shuffle the dataset."
   ]
  },
  {
   "cell_type": "code",
   "execution_count": null,
   "id": "6440b8a7",
   "metadata": {},
   "outputs": [],
   "source": [
    "dataset_arr = np.array(dataset, dtype=\"object\")\n",
    "dataset_arr = shuffle(dataset, random_state=42)\n",
    "dataset = list(dataset)"
   ]
  },
  {
   "cell_type": "markdown",
   "id": "def22ac8",
   "metadata": {},
   "source": [
    "We convert the span annotations to a Huggingface Dataset and export to a parquet file."
   ]
  },
  {
   "cell_type": "code",
   "execution_count": null,
   "id": "ce2ec053",
   "metadata": {},
   "outputs": [],
   "source": [
    "ds = spacy_to_hf(dataset_arr, label_to_idx)\n",
    "ds.to_parquet('dataset.parquet')"
   ]
  }
 ],
 "metadata": {
  "kernelspec": {
   "display_name": "Python 3 (ipykernel)",
   "language": "python",
   "name": "python3"
  },
  "language_info": {
   "codemirror_mode": {
    "name": "ipython",
    "version": 3
   },
   "file_extension": ".py",
   "mimetype": "text/x-python",
   "name": "python",
   "nbconvert_exporter": "python",
   "pygments_lexer": "ipython3",
   "version": "3.11.7"
  }
 },
 "nbformat": 4,
 "nbformat_minor": 5
}
